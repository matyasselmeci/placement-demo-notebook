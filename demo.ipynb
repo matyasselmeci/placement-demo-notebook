{
 "cells": [
  {
   "cell_type": "markdown",
   "metadata": {},
   "source": [
    "# Placement Tokens Demo"
   ]
  },
  {
   "cell_type": "markdown",
   "metadata": {},
   "source": [
    "This notebook demonstrates placing a job to an AP, using a Placement Token for authorization.\n",
    "\n",
    "Click on the following link to visit the site where you can obtain a Placement Token: <https://demo-ap.chtc.wisc.edu>\n",
    "\n",
    "You will be asked to log in with your NetID credentials, then select the permissions for your token.\n",
    "The commands in this demonstration will require both \"read\" and \"write\" permission.\n",
    "Download the token to a file on your computer."
   ]
  },
  {
   "cell_type": "markdown",
   "metadata": {},
   "source": [
    "Run the following cell to create buttons for uploading the token."
   ]
  },
  {
   "cell_type": "code",
   "execution_count": null,
   "metadata": {},
   "outputs": [],
   "source": [
    "import setup_notebook; setup_notebook.setup()\n"
   ]
  },
  {
   "cell_type": "markdown",
   "metadata": {},
   "source": [
    "We will use the `htcondor2` Python library to run HTCondor commands."
   ]
  },
  {
   "cell_type": "code",
   "execution_count": null,
   "metadata": {},
   "outputs": [],
   "source": [
    "import htcondor2\n"
   ]
  },
  {
   "cell_type": "markdown",
   "metadata": {},
   "source": [
    "Run the following cell to create the object named `schedd` with which you will interact with the Access Point."
   ]
  },
  {
   "cell_type": "code",
   "execution_count": null,
   "metadata": {},
   "outputs": [],
   "source": [
    "collector = htcondor2.Collector()\n",
    "schedd_ad = collector.locate(htcondor2.DaemonType.Schedd, htcondor2.param[\"SCHEDD_HOST\"])\n",
    "schedd = htcondor2.Schedd(schedd_ad)\n"
   ]
  },
  {
   "cell_type": "markdown",
   "metadata": {},
   "source": [
    "Verify that the connection to the Access Point is functional by querying for jobs.\n",
    "If the following command does not show any errors, the connection is functional.\n",
    "(It is normal for the result to be empty if there are no jobs placed at the AP.)"
   ]
  },
  {
   "cell_type": "code",
   "execution_count": null,
   "metadata": {},
   "outputs": [],
   "source": [
    "schedd.query(projection=[\"ClusterId\", \"ProcId\"])\n"
   ]
  },
  {
   "cell_type": "markdown",
   "metadata": {},
   "source": [
    "## Placing a job"
   ]
  },
  {
   "cell_type": "markdown",
   "metadata": {},
   "source": [
    "Create the `submit` object, which will hold the submit description of a test job that you will place."
   ]
  },
  {
   "cell_type": "code",
   "execution_count": null,
   "metadata": {},
   "outputs": [],
   "source": [
    "submit = htcondor2.Submit(\n",
    "\"\"\"\n",
    "Output = test_job.$(Cluster).out\n",
    "Error = test_job.$(Cluster).err\n",
    "Log = test_job.$(Cluster).log\n",
    "\n",
    "Executable = /bin/bash\n",
    "Arguments = \"-c 'sleep 30; echo Job succeeded at `date`'\"\n",
    "Transfer_Executable = false\n",
    "\n",
    "Queue\n",
    "\"\"\"\n",
    ")\n"
   ]
  },
  {
   "cell_type": "markdown",
   "metadata": {},
   "source": [
    "Place the job."
   ]
  },
  {
   "cell_type": "code",
   "execution_count": null,
   "metadata": {},
   "outputs": [],
   "source": [
    "placement = schedd.submit(submit, spool=True)\n",
    "schedd.spool(placement)\n"
   ]
  },
  {
   "cell_type": "markdown",
   "metadata": {},
   "source": [
    "Check the status of the job"
   ]
  },
  {
   "cell_type": "code",
   "execution_count": null,
   "metadata": {},
   "outputs": [],
   "source": [
    "query = schedd.query(f\"ClusterId == {placement.cluster()}\")\n"
   ]
  }
 ],
 "metadata": {
  "kernelspec": {
   "display_name": "Python 3",
   "language": "python",
   "name": "python3"
  },
  "language_info": {
   "name": "python",
   "version": "3.9.13"
  }
 },
 "nbformat": 4,
 "nbformat_minor": 2
}

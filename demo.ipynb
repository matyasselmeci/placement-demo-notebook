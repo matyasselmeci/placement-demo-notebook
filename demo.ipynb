{
 "cells": [
  {
   "cell_type": "markdown",
   "metadata": {},
   "source": [
    "# Placement Tokens Demo"
   ]
  },
  {
   "cell_type": "markdown",
   "metadata": {},
   "source": [
    "First, obtain a Placement Token from <https://demo-ap.chtc.wisc.edu>; upload it to this notebook as `ap-placement.tkn`.\n",
    "\n",
    "Then, run the following command to install the token:"
   ]
  },
  {
   "cell_type": "code",
   "execution_count": null,
   "metadata": {},
   "outputs": [],
   "source": [
    "!./install-token\n"
   ]
  },
  {
   "cell_type": "markdown",
   "metadata": {},
   "source": [
    "Set the parameters for connecting to a remote AP."
   ]
  },
  {
   "cell_type": "code",
   "execution_count": null,
   "metadata": {},
   "outputs": [],
   "source": [
    "import htcondor2\n",
    "coll = htcondor2.Collector()\n",
    "schedd_ad = coll.locate(htcondor2.DaemonType.Schedd, htcondor2.param[\"SCHEDD_HOST\"])\n",
    "schedd = htcondor2.Schedd(schedd_ad)\n"
   ]
  },
  {
   "cell_type": "markdown",
   "metadata": {},
   "source": [
    "Verify the connection by querying for jobs."
   ]
  },
  {
   "cell_type": "code",
   "execution_count": null,
   "metadata": {},
   "outputs": [],
   "source": [
    "schedd.query()\n"
   ]
  },
  {
   "cell_type": "markdown",
   "metadata": {},
   "source": [
    "Create a test job to place."
   ]
  },
  {
   "cell_type": "code",
   "execution_count": null,
   "metadata": {},
   "outputs": [],
   "source": [
    "submit = htcondor2.Submit(\n",
    "\"\"\"\n",
    "Output = test.$(Cluster).out\n",
    "Error = test.$(Cluster).err\n",
    "Log = test.$(Cluster).log\n",
    "\n",
    "Executable = /bin/bash\n",
    "Arguments = \"-c 'sleep 30 date; echo done'\"\n",
    "Transfer_Executable = false\n",
    "\n",
    "Queue\n",
    "\"\"\"\n",
    ")\n"
   ]
  },
  {
   "cell_type": "markdown",
   "metadata": {},
   "source": [
    "Place the job"
   ]
  },
  {
   "cell_type": "code",
   "execution_count": null,
   "metadata": {},
   "outputs": [],
   "source": [
    "job = schedd.submit(submit, spool=True)\n",
    "schedd.spool(job)\n"
   ]
  }
 ],
 "metadata": {
  "kernelspec": {
   "display_name": "Python 3",
   "language": "python",
   "name": "python3"
  },
  "language_info": {
   "name": "python",
   "version": "3.9.13"
  }
 },
 "nbformat": 4,
 "nbformat_minor": 2
}

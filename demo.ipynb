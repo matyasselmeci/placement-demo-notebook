{
 "cells": [
  {
   "cell_type": "markdown",
   "metadata": {},
   "source": [
    "# Placement Tokens Demo"
   ]
  },
  {
   "cell_type": "markdown",
   "metadata": {},
   "source": [
    "This notebook demonstrates placing a job on an AP, using a Placement Token for authorization.\n",
    "\n",
    "Use Shift+Enter to run the cells in this notebook.\n",
    "\n",
    "Run the following cell to perform some initial setup for the notebook.  A button will be created that will allow you to request the Placement Token.  You will use your NetID to request the token."
   ]
  },
  {
   "cell_type": "code",
   "execution_count": null,
   "metadata": {},
   "outputs": [],
   "source": [
    "import demo\n",
    "demo.setup()"
   ]
  },
  {
   "cell_type": "markdown",
   "metadata": {},
   "source": [
    "Once you have obtained the token, create the object named `ap` with which you will interact with the Access Point."
   ]
  },
  {
   "cell_type": "code",
   "execution_count": null,
   "metadata": {},
   "outputs": [],
   "source": [
    "ap = demo.AP()"
   ]
  },
  {
   "cell_type": "markdown",
   "metadata": {},
   "source": [
    "Verify that the connection to the Access Point is functional by querying for jobs.\n",
    "If the following command does not show any errors, the connection is functional.\n",
    "(There may already be some jobs placed on the AP from past sessions or by other users.)"
   ]
  },
  {
   "cell_type": "code",
   "execution_count": null,
   "metadata": {},
   "outputs": [],
   "source": [
    "print(\"There are %d jobs currently placed at the AP.\" % ap.get_job_count())"
   ]
  },
  {
   "cell_type": "markdown",
   "metadata": {},
   "source": [
    "## Placing a job\n",
    "\n",
    "Create the `submit` object, which will hold the submit description of a test job that you will place.\n",
    "This test job will sleep for 30 seconds then add a message with the date."
   ]
  },
  {
   "cell_type": "code",
   "execution_count": null,
   "metadata": {},
   "outputs": [],
   "source": [
    "submit = demo.Submit(\n",
    "\"\"\"\n",
    "Output = test_job_result.txt\n",
    "Log = test_job.$(Cluster).log\n",
    "\n",
    "Executable = /bin/bash\n",
    "Arguments = \"-c 'sleep 30; echo Job succeeded at `date`' 2>&1\"\n",
    "Transfer_Executable = false\n",
    "\n",
    "Queue\n",
    "\"\"\"\n",
    ")"
   ]
  },
  {
   "cell_type": "markdown",
   "metadata": {},
   "source": [
    "Place the job. The resulting job ID will be printed."
   ]
  },
  {
   "cell_type": "code",
   "execution_count": null,
   "metadata": {},
   "outputs": [],
   "source": [
    "placement = ap.place(submit)\n",
    "print(f\"Your placement has job ID {placement.cluster()}.0\")"
   ]
  },
  {
   "cell_type": "markdown",
   "metadata": {},
   "source": [
    "Check the status of the job"
   ]
  },
  {
   "cell_type": "code",
   "execution_count": null,
   "metadata": {},
   "outputs": [],
   "source": [
    "ap.print_placement_status(placement)"
   ]
  },
  {
   "cell_type": "markdown",
   "metadata": {},
   "source": [
    "If the job is completed, run the following to copy the results back to the current directory.  The file `test_job_result.txt` will be created.  If not, wait for a short amount of time and run the previous command again."
   ]
  },
  {
   "cell_type": "code",
   "execution_count": null,
   "metadata": {},
   "outputs": [],
   "source": [
    "ap.retrieve(f\"ClusterId == {placement.cluster()}\")"
   ]
  },
  {
   "cell_type": "markdown",
   "metadata": {},
   "source": [
    "This will print the result of the job."
   ]
  },
  {
   "cell_type": "code",
   "execution_count": null,
   "metadata": {},
   "outputs": [],
   "source": [
    "print(open(\"test_job_result.txt\", \"rt\").read())"
   ]
  }
 ],
 "metadata": {
  "kernelspec": {
   "display_name": "Python 3",
   "language": "python",
   "name": "python3"
  },
  "language_info": {
   "name": "python",
   "version": "3.9.13"
  }
 },
 "nbformat": 4,
 "nbformat_minor": 2
}

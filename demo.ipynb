{
 "cells": [
  {
   "cell_type": "markdown",
   "metadata": {},
   "source": [
    "# Placement Tokens Demo"
   ]
  },
  {
   "cell_type": "markdown",
   "metadata": {},
   "source": [
    "This notebook demonstrates placing a job on an AP, using a Placement Token for authorization.\n",
    "\n",
    "Use Shift+Enter to run the cells in this notebook.\n",
    "\n",
    "Run the following cell to perform some initial setup for the notebook.  A button will be created that will allow you to request the Placement Token.  You will use your NetID to request the token."
   ]
  },
  {
   "cell_type": "code",
   "execution_count": null,
   "metadata": {},
   "outputs": [],
   "source": [
    "import demo\n",
    "import htcondor2\n",
    "demo.setup()"
   ]
  },
  {
   "cell_type": "markdown",
   "metadata": {},
   "source": [
    "After uploading the Placement Token, run the following cell to create the object named `schedd` with which you will interact with the Access Point."
   ]
  },
  {
   "cell_type": "code",
   "execution_count": null,
   "metadata": {},
   "outputs": [],
   "source": [
    "collector = htcondor2.Collector()\n",
    "schedd_ad = collector.locate(\n",
    "    htcondor2.DaemonType.Schedd, htcondor2.param[\"SCHEDD_HOST\"]\n",
    ")\n",
    "schedd = htcondor2.Schedd(schedd_ad)"
   ]
  },
  {
   "cell_type": "markdown",
   "metadata": {},
   "source": [
    "Verify that the connection to the Access Point is functional by querying for jobs.\n",
    "If the following command does not show any errors, the connection is functional.\n",
    "(There may already be some jobs placed on the AP from past sessions or by other users.)"
   ]
  },
  {
   "cell_type": "code",
   "execution_count": null,
   "metadata": {},
   "outputs": [],
   "source": [
    "print(\"There are %d jobs currently placed at the AP.\" % len(schedd.query(projection=[\"ClusterId\", \"ProcId\"])))"
   ]
  },
  {
   "cell_type": "markdown",
   "metadata": {},
   "source": [
    "## Placing a job"
   ]
  },
  {
   "cell_type": "markdown",
   "metadata": {},
   "source": [
    "Create the `submit` object, which will hold the submit description of a test job that you will place.\n",
    "This test job will sleep for 30 seconds then add a message with the date."
   ]
  },
  {
   "cell_type": "code",
   "execution_count": null,
   "metadata": {},
   "outputs": [],
   "source": [
    "submit = htcondor2.Submit(\n",
    "\"\"\"\n",
    "Output = test_job_result.txt\n",
    "Log = test_job.$(Cluster).log\n",
    "\n",
    "Executable = /bin/bash\n",
    "Arguments = \"-c 'sleep 30; echo Job succeeded at `date`' 2>&1\"\n",
    "Transfer_Executable = false\n",
    "\n",
    "Queue\n",
    "\"\"\"\n",
    ")"
   ]
  },
  {
   "cell_type": "markdown",
   "metadata": {},
   "source": [
    "Place the job. The resulting job ID will be printed."
   ]
  },
  {
   "cell_type": "code",
   "execution_count": null,
   "metadata": {},
   "outputs": [],
   "source": [
    "placement = schedd.submit(submit, spool=True)\n",
    "schedd.spool(placement)\n",
    "print(f\"Your placement has job ID {placement.cluster()}.0\")"
   ]
  },
  {
   "cell_type": "markdown",
   "metadata": {},
   "source": [
    "Check the status of the job"
   ]
  },
  {
   "cell_type": "code",
   "execution_count": null,
   "metadata": {},
   "outputs": [],
   "source": [
    "demo.print_placement_status(placement, schedd)"
   ]
  },
  {
   "cell_type": "markdown",
   "metadata": {},
   "source": [
    "If the job is completed, run the following to copy the results back to the current directory.  The file `test_job_result.txt` will be created.  If not, wait for a short amount of time and run the previous command again."
   ]
  },
  {
   "cell_type": "code",
   "execution_count": null,
   "metadata": {},
   "outputs": [],
   "source": [
    "schedd.retrieve(f\"ClusterId == {placement.cluster()}\")"
   ]
  },
  {
   "cell_type": "markdown",
   "metadata": {},
   "source": [
    "This will print the result of the job."
   ]
  },
  {
   "cell_type": "code",
   "execution_count": null,
   "metadata": {},
   "outputs": [],
   "source": [
    "print(open(\"test_job_result.txt\", \"rt\").read())"
   ]
  }
 ],
 "metadata": {
  "kernelspec": {
   "display_name": "Python 3",
   "language": "python",
   "name": "python3"
  },
  "language_info": {
   "name": "python",
   "version": "3.9.13"
  }
 },
 "nbformat": 4,
 "nbformat_minor": 2
}
